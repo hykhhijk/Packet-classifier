{
 "cells": [
  {
   "cell_type": "code",
   "execution_count": 90,
   "id": "a5cd4e7d",
   "metadata": {},
   "outputs": [],
   "source": [
    "import tensorflow as tf\n",
    "from tensorflow import keras\n",
    "import sklearn\n",
    "import numpy as np\n",
    "import pandas as pd\n",
    "import os\n",
    "%matplotlib inline\n",
    "import matplotlib as mpl\n",
    "import matplotlib.pyplot as plt\n",
    "from sklearn.model_selection import train_test_split\n",
    "from sklearn.metrics import classification_report"
   ]
  },
  {
   "cell_type": "code",
   "execution_count": 91,
   "id": "871423db",
   "metadata": {},
   "outputs": [],
   "source": [
    "packet = pd.read_csv(\"./datasets/iot-network-intrusion-dataset_190919/Packets_integrated/scan-portos.txt\", sep=\"\\n\", header = None)"
   ]
  },
  {
   "cell_type": "code",
   "execution_count": 92,
   "id": "facc3f49",
   "metadata": {},
   "outputs": [
    {
     "data": {
      "text/html": [
       "<div>\n",
       "<style scoped>\n",
       "    .dataframe tbody tr th:only-of-type {\n",
       "        vertical-align: middle;\n",
       "    }\n",
       "\n",
       "    .dataframe tbody tr th {\n",
       "        vertical-align: top;\n",
       "    }\n",
       "\n",
       "    .dataframe thead th {\n",
       "        text-align: right;\n",
       "    }\n",
       "</style>\n",
       "<table border=\"1\" class=\"dataframe\">\n",
       "  <thead>\n",
       "    <tr style=\"text-align: right;\">\n",
       "      <th></th>\n",
       "      <th>0</th>\n",
       "    </tr>\n",
       "  </thead>\n",
       "  <tbody>\n",
       "    <tr>\n",
       "      <th>0</th>\n",
       "      <td>0000  a8 66 7f 0e 3f 54 6c 40 08 bf fe 46 08 0...</td>\n",
       "    </tr>\n",
       "    <tr>\n",
       "      <th>1</th>\n",
       "      <td>0010  01 82 3f 69 00 00 ff 11 d9 3c c0 a8 00 2...</td>\n",
       "    </tr>\n",
       "    <tr>\n",
       "      <th>2</th>\n",
       "      <td>0020  00 fb 14 e9 14 e9 01 6e 7e a8 00 00 00 0...</td>\n",
       "    </tr>\n",
       "    <tr>\n",
       "      <th>3</th>\n",
       "      <td>0030  00 01 00 00 00 01 0b 5f 67 6f 6f 67 6c 6...</td>\n",
       "    </tr>\n",
       "    <tr>\n",
       "      <th>4</th>\n",
       "      <td>0040  73 74 04 5f 74 63 70 05 6c 6f 63 61 6c 0...</td>\n",
       "    </tr>\n",
       "    <tr>\n",
       "      <th>...</th>\n",
       "      <td>...</td>\n",
       "    </tr>\n",
       "    <tr>\n",
       "      <th>8626066</th>\n",
       "      <td>0000  88 36 6c d7 1c 56 04 32 f4 45 17 b3 08 ...</td>\n",
       "    </tr>\n",
       "    <tr>\n",
       "      <th>8626067</th>\n",
       "      <td>0010  00 34 02 f2 40 00 40 06 f0 dd c0 a8 00 1...</td>\n",
       "    </tr>\n",
       "    <tr>\n",
       "      <th>8626068</th>\n",
       "      <td>0020  4b 53 a1 fb 01 bb 13 c3 8b dd 18 ab 59 1...</td>\n",
       "    </tr>\n",
       "    <tr>\n",
       "      <th>8626069</th>\n",
       "      <td>0030  19 a5 a5 6e 00 00 01 01 08 0a 00 03 86 b...</td>\n",
       "    </tr>\n",
       "    <tr>\n",
       "      <th>8626070</th>\n",
       "      <td>0040  3e fa                                   ...</td>\n",
       "    </tr>\n",
       "  </tbody>\n",
       "</table>\n",
       "<p>8626071 rows × 1 columns</p>\n",
       "</div>"
      ],
      "text/plain": [
       "                                                         0\n",
       "0        0000  a8 66 7f 0e 3f 54 6c 40 08 bf fe 46 08 0...\n",
       "1        0010  01 82 3f 69 00 00 ff 11 d9 3c c0 a8 00 2...\n",
       "2        0020  00 fb 14 e9 14 e9 01 6e 7e a8 00 00 00 0...\n",
       "3        0030  00 01 00 00 00 01 0b 5f 67 6f 6f 67 6c 6...\n",
       "4        0040  73 74 04 5f 74 63 70 05 6c 6f 63 61 6c 0...\n",
       "...                                                    ...\n",
       "8626066  \n",
       "0000  88 36 6c d7 1c 56 04 32 f4 45 17 b3 08 ...\n",
       "8626067  0010  00 34 02 f2 40 00 40 06 f0 dd c0 a8 00 1...\n",
       "8626068  0020  4b 53 a1 fb 01 bb 13 c3 8b dd 18 ab 59 1...\n",
       "8626069  0030  19 a5 a5 6e 00 00 01 01 08 0a 00 03 86 b...\n",
       "8626070  0040  3e fa                                   ...\n",
       "\n",
       "[8626071 rows x 1 columns]"
      ]
     },
     "execution_count": 92,
     "metadata": {},
     "output_type": "execute_result"
    }
   ],
   "source": [
    "packet"
   ]
  },
  {
   "cell_type": "code",
   "execution_count": 93,
   "id": "98c00f87",
   "metadata": {},
   "outputs": [],
   "source": [
    "packet[packet[0].str.contains(\"Frame \\(\")] = \"\\f\""
   ]
  },
  {
   "cell_type": "code",
   "execution_count": 94,
   "id": "9ef89f54",
   "metadata": {},
   "outputs": [
    {
     "data": {
      "text/html": [
       "<div>\n",
       "<style scoped>\n",
       "    .dataframe tbody tr th:only-of-type {\n",
       "        vertical-align: middle;\n",
       "    }\n",
       "\n",
       "    .dataframe tbody tr th {\n",
       "        vertical-align: top;\n",
       "    }\n",
       "\n",
       "    .dataframe thead th {\n",
       "        text-align: right;\n",
       "    }\n",
       "</style>\n",
       "<table border=\"1\" class=\"dataframe\">\n",
       "  <thead>\n",
       "    <tr style=\"text-align: right;\">\n",
       "      <th></th>\n",
       "      <th>0</th>\n",
       "    </tr>\n",
       "  </thead>\n",
       "  <tbody>\n",
       "    <tr>\n",
       "      <th>0</th>\n",
       "      <td>0000  a8 66 7f 0e 3f 54 6c 40 08 bf fe 46 08 0...</td>\n",
       "    </tr>\n",
       "    <tr>\n",
       "      <th>1</th>\n",
       "      <td>0010  01 82 3f 69 00 00 ff 11 d9 3c c0 a8 00 2...</td>\n",
       "    </tr>\n",
       "    <tr>\n",
       "      <th>2</th>\n",
       "      <td>0020  00 fb 14 e9 14 e9 01 6e 7e a8 00 00 00 0...</td>\n",
       "    </tr>\n",
       "    <tr>\n",
       "      <th>3</th>\n",
       "      <td>0030  00 01 00 00 00 01 0b 5f 67 6f 6f 67 6c 6...</td>\n",
       "    </tr>\n",
       "    <tr>\n",
       "      <th>4</th>\n",
       "      <td>0040  73 74 04 5f 74 63 70 05 6c 6f 63 61 6c 0...</td>\n",
       "    </tr>\n",
       "    <tr>\n",
       "      <th>...</th>\n",
       "      <td>...</td>\n",
       "    </tr>\n",
       "    <tr>\n",
       "      <th>8626066</th>\n",
       "      <td>0000  88 36 6c d7 1c 56 04 32 f4 45 17 b3 08 ...</td>\n",
       "    </tr>\n",
       "    <tr>\n",
       "      <th>8626067</th>\n",
       "      <td>0010  00 34 02 f2 40 00 40 06 f0 dd c0 a8 00 1...</td>\n",
       "    </tr>\n",
       "    <tr>\n",
       "      <th>8626068</th>\n",
       "      <td>0020  4b 53 a1 fb 01 bb 13 c3 8b dd 18 ab 59 1...</td>\n",
       "    </tr>\n",
       "    <tr>\n",
       "      <th>8626069</th>\n",
       "      <td>0030  19 a5 a5 6e 00 00 01 01 08 0a 00 03 86 b...</td>\n",
       "    </tr>\n",
       "    <tr>\n",
       "      <th>8626070</th>\n",
       "      <td>0040  3e fa                                   ...</td>\n",
       "    </tr>\n",
       "  </tbody>\n",
       "</table>\n",
       "<p>8626071 rows × 1 columns</p>\n",
       "</div>"
      ],
      "text/plain": [
       "                                                         0\n",
       "0        0000  a8 66 7f 0e 3f 54 6c 40 08 bf fe 46 08 0...\n",
       "1        0010  01 82 3f 69 00 00 ff 11 d9 3c c0 a8 00 2...\n",
       "2        0020  00 fb 14 e9 14 e9 01 6e 7e a8 00 00 00 0...\n",
       "3        0030  00 01 00 00 00 01 0b 5f 67 6f 6f 67 6c 6...\n",
       "4        0040  73 74 04 5f 74 63 70 05 6c 6f 63 61 6c 0...\n",
       "...                                                    ...\n",
       "8626066  \n",
       "0000  88 36 6c d7 1c 56 04 32 f4 45 17 b3 08 ...\n",
       "8626067  0010  00 34 02 f2 40 00 40 06 f0 dd c0 a8 00 1...\n",
       "8626068  0020  4b 53 a1 fb 01 bb 13 c3 8b dd 18 ab 59 1...\n",
       "8626069  0030  19 a5 a5 6e 00 00 01 01 08 0a 00 03 86 b...\n",
       "8626070  0040  3e fa                                   ...\n",
       "\n",
       "[8626071 rows x 1 columns]"
      ]
     },
     "execution_count": 94,
     "metadata": {},
     "output_type": "execute_result"
    }
   ],
   "source": [
    "packet"
   ]
  },
  {
   "cell_type": "code",
   "execution_count": 95,
   "id": "8aeb5a7e",
   "metadata": {},
   "outputs": [],
   "source": [
    "packet[0] = packet[0].str[:53]"
   ]
  },
  {
   "cell_type": "code",
   "execution_count": 96,
   "id": "9be79063",
   "metadata": {},
   "outputs": [
    {
     "data": {
      "text/html": [
       "<div>\n",
       "<style scoped>\n",
       "    .dataframe tbody tr th:only-of-type {\n",
       "        vertical-align: middle;\n",
       "    }\n",
       "\n",
       "    .dataframe tbody tr th {\n",
       "        vertical-align: top;\n",
       "    }\n",
       "\n",
       "    .dataframe thead th {\n",
       "        text-align: right;\n",
       "    }\n",
       "</style>\n",
       "<table border=\"1\" class=\"dataframe\">\n",
       "  <thead>\n",
       "    <tr style=\"text-align: right;\">\n",
       "      <th></th>\n",
       "      <th>0</th>\n",
       "    </tr>\n",
       "  </thead>\n",
       "  <tbody>\n",
       "    <tr>\n",
       "      <th>0</th>\n",
       "      <td>0000  a8 66 7f 0e 3f 54 6c 40 08 bf fe 46 08 0...</td>\n",
       "    </tr>\n",
       "    <tr>\n",
       "      <th>1</th>\n",
       "      <td>0010  01 82 3f 69 00 00 ff 11 d9 3c c0 a8 00 2...</td>\n",
       "    </tr>\n",
       "    <tr>\n",
       "      <th>2</th>\n",
       "      <td>0020  00 fb 14 e9 14 e9 01 6e 7e a8 00 00 00 0...</td>\n",
       "    </tr>\n",
       "    <tr>\n",
       "      <th>3</th>\n",
       "      <td>0030  00 01 00 00 00 01 0b 5f 67 6f 6f 67 6c 6...</td>\n",
       "    </tr>\n",
       "    <tr>\n",
       "      <th>4</th>\n",
       "      <td>0040  73 74 04 5f 74 63 70 05 6c 6f 63 61 6c 0...</td>\n",
       "    </tr>\n",
       "    <tr>\n",
       "      <th>...</th>\n",
       "      <td>...</td>\n",
       "    </tr>\n",
       "    <tr>\n",
       "      <th>8626066</th>\n",
       "      <td>0000  88 36 6c d7 1c 56 04 32 f4 45 17 b3 08 ...</td>\n",
       "    </tr>\n",
       "    <tr>\n",
       "      <th>8626067</th>\n",
       "      <td>0010  00 34 02 f2 40 00 40 06 f0 dd c0 a8 00 1...</td>\n",
       "    </tr>\n",
       "    <tr>\n",
       "      <th>8626068</th>\n",
       "      <td>0020  4b 53 a1 fb 01 bb 13 c3 8b dd 18 ab 59 1...</td>\n",
       "    </tr>\n",
       "    <tr>\n",
       "      <th>8626069</th>\n",
       "      <td>0030  19 a5 a5 6e 00 00 01 01 08 0a 00 03 86 b...</td>\n",
       "    </tr>\n",
       "    <tr>\n",
       "      <th>8626070</th>\n",
       "      <td>0040  3e fa                                   ...</td>\n",
       "    </tr>\n",
       "  </tbody>\n",
       "</table>\n",
       "<p>8626071 rows × 1 columns</p>\n",
       "</div>"
      ],
      "text/plain": [
       "                                                         0\n",
       "0        0000  a8 66 7f 0e 3f 54 6c 40 08 bf fe 46 08 0...\n",
       "1        0010  01 82 3f 69 00 00 ff 11 d9 3c c0 a8 00 2...\n",
       "2        0020  00 fb 14 e9 14 e9 01 6e 7e a8 00 00 00 0...\n",
       "3        0030  00 01 00 00 00 01 0b 5f 67 6f 6f 67 6c 6...\n",
       "4        0040  73 74 04 5f 74 63 70 05 6c 6f 63 61 6c 0...\n",
       "...                                                    ...\n",
       "8626066  \n",
       "0000  88 36 6c d7 1c 56 04 32 f4 45 17 b3 08 ...\n",
       "8626067  0010  00 34 02 f2 40 00 40 06 f0 dd c0 a8 00 1...\n",
       "8626068  0020  4b 53 a1 fb 01 bb 13 c3 8b dd 18 ab 59 1...\n",
       "8626069  0030  19 a5 a5 6e 00 00 01 01 08 0a 00 03 86 b...\n",
       "8626070  0040  3e fa                                   ...\n",
       "\n",
       "[8626071 rows x 1 columns]"
      ]
     },
     "execution_count": 96,
     "metadata": {},
     "output_type": "execute_result"
    }
   ],
   "source": [
    "packet"
   ]
  },
  {
   "cell_type": "code",
   "execution_count": 99,
   "id": "2db9c81a",
   "metadata": {},
   "outputs": [
    {
     "ename": "AttributeError",
     "evalue": "'DataFrame' object has no attribute 'str'",
     "output_type": "error",
     "traceback": [
      "\u001b[1;31m---------------------------------------------------------------------------\u001b[0m",
      "\u001b[1;31mAttributeError\u001b[0m                            Traceback (most recent call last)",
      "\u001b[1;32m<ipython-input-99-50424602b30e>\u001b[0m in \u001b[0;36m<module>\u001b[1;34m\u001b[0m\n\u001b[1;32m----> 1\u001b[1;33m \u001b[0mpacket\u001b[0m \u001b[1;33m=\u001b[0m \u001b[0mpacket\u001b[0m\u001b[1;33m.\u001b[0m\u001b[0mstr\u001b[0m\u001b[1;33m.\u001b[0m\u001b[0msplit\u001b[0m\u001b[1;33m(\u001b[0m\u001b[1;34m\"\\f\"\u001b[0m\u001b[1;33m,\u001b[0m \u001b[0mexpand\u001b[0m\u001b[1;33m=\u001b[0m\u001b[1;32mTrue\u001b[0m\u001b[1;33m)\u001b[0m\u001b[1;33m\u001b[0m\u001b[1;33m\u001b[0m\u001b[0m\n\u001b[0m",
      "\u001b[1;32m~\\anaconda3\\envs\\python3.6.8\\lib\\site-packages\\pandas\\core\\generic.py\u001b[0m in \u001b[0;36m__getattr__\u001b[1;34m(self, name)\u001b[0m\n\u001b[0;32m   5139\u001b[0m             \u001b[1;32mif\u001b[0m \u001b[0mself\u001b[0m\u001b[1;33m.\u001b[0m\u001b[0m_info_axis\u001b[0m\u001b[1;33m.\u001b[0m\u001b[0m_can_hold_identifiers_and_holds_name\u001b[0m\u001b[1;33m(\u001b[0m\u001b[0mname\u001b[0m\u001b[1;33m)\u001b[0m\u001b[1;33m:\u001b[0m\u001b[1;33m\u001b[0m\u001b[1;33m\u001b[0m\u001b[0m\n\u001b[0;32m   5140\u001b[0m                 \u001b[1;32mreturn\u001b[0m \u001b[0mself\u001b[0m\u001b[1;33m[\u001b[0m\u001b[0mname\u001b[0m\u001b[1;33m]\u001b[0m\u001b[1;33m\u001b[0m\u001b[1;33m\u001b[0m\u001b[0m\n\u001b[1;32m-> 5141\u001b[1;33m             \u001b[1;32mreturn\u001b[0m \u001b[0mobject\u001b[0m\u001b[1;33m.\u001b[0m\u001b[0m__getattribute__\u001b[0m\u001b[1;33m(\u001b[0m\u001b[0mself\u001b[0m\u001b[1;33m,\u001b[0m \u001b[0mname\u001b[0m\u001b[1;33m)\u001b[0m\u001b[1;33m\u001b[0m\u001b[1;33m\u001b[0m\u001b[0m\n\u001b[0m\u001b[0;32m   5142\u001b[0m \u001b[1;33m\u001b[0m\u001b[0m\n\u001b[0;32m   5143\u001b[0m     \u001b[1;32mdef\u001b[0m \u001b[0m__setattr__\u001b[0m\u001b[1;33m(\u001b[0m\u001b[0mself\u001b[0m\u001b[1;33m,\u001b[0m \u001b[0mname\u001b[0m\u001b[1;33m:\u001b[0m \u001b[0mstr\u001b[0m\u001b[1;33m,\u001b[0m \u001b[0mvalue\u001b[0m\u001b[1;33m)\u001b[0m \u001b[1;33m->\u001b[0m \u001b[1;32mNone\u001b[0m\u001b[1;33m:\u001b[0m\u001b[1;33m\u001b[0m\u001b[1;33m\u001b[0m\u001b[0m\n",
      "\u001b[1;31mAttributeError\u001b[0m: 'DataFrame' object has no attribute 'str'"
     ]
    }
   ],
   "source": [
    "packet = packet.str.split(\"\\f\", expand=True)"
   ]
  },
  {
   "cell_type": "code",
   "execution_count": 102,
   "id": "f38c37fa",
   "metadata": {},
   "outputs": [
    {
     "data": {
      "text/plain": [
       "pandas.core.series.Series"
      ]
     },
     "execution_count": 102,
     "metadata": {},
     "output_type": "execute_result"
    }
   ],
   "source": [
    "type(packet.stack())"
   ]
  },
  {
   "cell_type": "code",
   "execution_count": null,
   "id": "c4591295",
   "metadata": {},
   "outputs": [],
   "source": []
  },
  {
   "cell_type": "code",
   "execution_count": null,
   "id": "88714a25",
   "metadata": {},
   "outputs": [],
   "source": []
  },
  {
   "cell_type": "code",
   "execution_count": 81,
   "id": "5fe4b3e7",
   "metadata": {},
   "outputs": [],
   "source": [
    "packet = packet[0].str.split(\"  \",1, expand=True)"
   ]
  },
  {
   "cell_type": "code",
   "execution_count": 82,
   "id": "7479442b",
   "metadata": {},
   "outputs": [
    {
     "data": {
      "text/html": [
       "<div>\n",
       "<style scoped>\n",
       "    .dataframe tbody tr th:only-of-type {\n",
       "        vertical-align: middle;\n",
       "    }\n",
       "\n",
       "    .dataframe tbody tr th {\n",
       "        vertical-align: top;\n",
       "    }\n",
       "\n",
       "    .dataframe thead th {\n",
       "        text-align: right;\n",
       "    }\n",
       "</style>\n",
       "<table border=\"1\" class=\"dataframe\">\n",
       "  <thead>\n",
       "    <tr style=\"text-align: right;\">\n",
       "      <th></th>\n",
       "      <th>0</th>\n",
       "      <th>1</th>\n",
       "    </tr>\n",
       "  </thead>\n",
       "  <tbody>\n",
       "    <tr>\n",
       "      <th>0</th>\n",
       "      <td>0000</td>\n",
       "      <td>a8 66 7f 0e 3f 54 6c 40 08 bf fe 46 08 00 45 00</td>\n",
       "    </tr>\n",
       "    <tr>\n",
       "      <th>1</th>\n",
       "      <td>0010</td>\n",
       "      <td>01 82 3f 69 00 00 ff 11 d9 3c c0 a8 00 21 e0 00</td>\n",
       "    </tr>\n",
       "    <tr>\n",
       "      <th>2</th>\n",
       "      <td>0020</td>\n",
       "      <td>00 fb 14 e9 14 e9 01 6e 7e a8 00 00 00 00 00 11</td>\n",
       "    </tr>\n",
       "    <tr>\n",
       "      <th>3</th>\n",
       "      <td>0030</td>\n",
       "      <td>00 01 00 00 00 01 0b 5f 67 6f 6f 67 6c 65 63 61</td>\n",
       "    </tr>\n",
       "    <tr>\n",
       "      <th>4</th>\n",
       "      <td>0040</td>\n",
       "      <td>73 74 04 5f 74 63 70 05 6c 6f 63 61 6c 00 00 0c</td>\n",
       "    </tr>\n",
       "    <tr>\n",
       "      <th>...</th>\n",
       "      <td>...</td>\n",
       "      <td>...</td>\n",
       "    </tr>\n",
       "    <tr>\n",
       "      <th>8626066</th>\n",
       "      <td>0000</td>\n",
       "      <td>88 36 6c d7 1c 56 04 32 f4 45 17 b3 08 00 45 0</td>\n",
       "    </tr>\n",
       "    <tr>\n",
       "      <th>8626067</th>\n",
       "      <td>0010</td>\n",
       "      <td>00 34 02 f2 40 00 40 06 f0 dd c0 a8 00 18 3a e1</td>\n",
       "    </tr>\n",
       "    <tr>\n",
       "      <th>8626068</th>\n",
       "      <td>0020</td>\n",
       "      <td>4b 53 a1 fb 01 bb 13 c3 8b dd 18 ab 59 18 80 10</td>\n",
       "    </tr>\n",
       "    <tr>\n",
       "      <th>8626069</th>\n",
       "      <td>0030</td>\n",
       "      <td>19 a5 a5 6e 00 00 01 01 08 0a 00 03 86 b1 f5 eb</td>\n",
       "    </tr>\n",
       "    <tr>\n",
       "      <th>8626070</th>\n",
       "      <td>0040</td>\n",
       "      <td>3e fa</td>\n",
       "    </tr>\n",
       "  </tbody>\n",
       "</table>\n",
       "<p>8626071 rows × 2 columns</p>\n",
       "</div>"
      ],
      "text/plain": [
       "             0                                                1\n",
       "0         0000  a8 66 7f 0e 3f 54 6c 40 08 bf fe 46 08 00 45 00\n",
       "1         0010  01 82 3f 69 00 00 ff 11 d9 3c c0 a8 00 21 e0 00\n",
       "2         0020  00 fb 14 e9 14 e9 01 6e 7e a8 00 00 00 00 00 11\n",
       "3         0030  00 01 00 00 00 01 0b 5f 67 6f 6f 67 6c 65 63 61\n",
       "4         0040  73 74 04 5f 74 63 70 05 6c 6f 63 61 6c 00 00 0c\n",
       "...        ...                                              ...\n",
       "8626066  \n",
       "0000   88 36 6c d7 1c 56 04 32 f4 45 17 b3 08 00 45 0\n",
       "8626067   0010  00 34 02 f2 40 00 40 06 f0 dd c0 a8 00 18 3a e1\n",
       "8626068   0020  4b 53 a1 fb 01 bb 13 c3 8b dd 18 ab 59 18 80 10\n",
       "8626069   0030  19 a5 a5 6e 00 00 01 01 08 0a 00 03 86 b1 f5 eb\n",
       "8626070   0040  3e fa                                          \n",
       "\n",
       "[8626071 rows x 2 columns]"
      ]
     },
     "execution_count": 82,
     "metadata": {},
     "output_type": "execute_result"
    }
   ],
   "source": [
    "packet"
   ]
  },
  {
   "cell_type": "code",
   "execution_count": 87,
   "id": "9fce0185",
   "metadata": {},
   "outputs": [],
   "source": [
    "temp2 = np.array(packet).reshape(-1,1)"
   ]
  },
  {
   "cell_type": "code",
   "execution_count": 89,
   "id": "c221e319",
   "metadata": {},
   "outputs": [
    {
     "data": {
      "text/plain": [
       "(17252142, 1)"
      ]
     },
     "execution_count": 89,
     "metadata": {},
     "output_type": "execute_result"
    }
   ],
   "source": [
    "temp2.str.split"
   ]
  },
  {
   "cell_type": "code",
   "execution_count": 54,
   "id": "e5df9396",
   "metadata": {},
   "outputs": [
    {
     "data": {
      "text/plain": [
       "'0000'"
      ]
     },
     "execution_count": 54,
     "metadata": {},
     "output_type": "execute_result"
    }
   ],
   "source": [
    "packet"
   ]
  },
  {
   "cell_type": "code",
   "execution_count": 51,
   "id": "199a4f31",
   "metadata": {},
   "outputs": [
    {
     "data": {
      "text/html": [
       "<div>\n",
       "<style scoped>\n",
       "    .dataframe tbody tr th:only-of-type {\n",
       "        vertical-align: middle;\n",
       "    }\n",
       "\n",
       "    .dataframe tbody tr th {\n",
       "        vertical-align: top;\n",
       "    }\n",
       "\n",
       "    .dataframe thead th {\n",
       "        text-align: right;\n",
       "    }\n",
       "</style>\n",
       "<table border=\"1\" class=\"dataframe\">\n",
       "  <thead>\n",
       "    <tr style=\"text-align: right;\">\n",
       "      <th></th>\n",
       "      <th>0</th>\n",
       "    </tr>\n",
       "  </thead>\n",
       "  <tbody>\n",
       "    <tr>\n",
       "      <th>0</th>\n",
       "      <td>[0000, a8 66 7f 0e 3f 54 6c 40 08 bf fe 46 08 ...</td>\n",
       "    </tr>\n",
       "    <tr>\n",
       "      <th>1</th>\n",
       "      <td>[0010, 01 82 3f 69 00 00 ff 11 d9 3c c0 a8 00 ...</td>\n",
       "    </tr>\n",
       "    <tr>\n",
       "      <th>2</th>\n",
       "      <td>[0020, 00 fb 14 e9 14 e9 01 6e 7e a8 00 00 00 ...</td>\n",
       "    </tr>\n",
       "    <tr>\n",
       "      <th>3</th>\n",
       "      <td>[0030, 00 01 00 00 00 01 0b 5f 67 6f 6f 67 6c ...</td>\n",
       "    </tr>\n",
       "    <tr>\n",
       "      <th>4</th>\n",
       "      <td>[0040, 73 74 04 5f 74 63 70 05 6c 6f 63 61 6c ...</td>\n",
       "    </tr>\n",
       "    <tr>\n",
       "      <th>...</th>\n",
       "      <td>...</td>\n",
       "    </tr>\n",
       "    <tr>\n",
       "      <th>8626066</th>\n",
       "      <td>[\f",
       "0000, 88 36 6c d7 1c 56 04 32 f4 45 17 b3 08...</td>\n",
       "    </tr>\n",
       "    <tr>\n",
       "      <th>8626067</th>\n",
       "      <td>[0010, 00 34 02 f2 40 00 40 06 f0 dd c0 a8 00 ...</td>\n",
       "    </tr>\n",
       "    <tr>\n",
       "      <th>8626068</th>\n",
       "      <td>[0020, 4b 53 a1 fb 01 bb 13 c3 8b dd 18 ab 59 ...</td>\n",
       "    </tr>\n",
       "    <tr>\n",
       "      <th>8626069</th>\n",
       "      <td>[0030, 19 a5 a5 6e 00 00 01 01 08 0a 00 03 86 ...</td>\n",
       "    </tr>\n",
       "    <tr>\n",
       "      <th>8626070</th>\n",
       "      <td>[0040, 3e fa,                                 ...</td>\n",
       "    </tr>\n",
       "  </tbody>\n",
       "</table>\n",
       "<p>8626071 rows × 1 columns</p>\n",
       "</div>"
      ],
      "text/plain": [
       "                                                         0\n",
       "0        [0000, a8 66 7f 0e 3f 54 6c 40 08 bf fe 46 08 ...\n",
       "1        [0010, 01 82 3f 69 00 00 ff 11 d9 3c c0 a8 00 ...\n",
       "2        [0020, 00 fb 14 e9 14 e9 01 6e 7e a8 00 00 00 ...\n",
       "3        [0030, 00 01 00 00 00 01 0b 5f 67 6f 6f 67 6c ...\n",
       "4        [0040, 73 74 04 5f 74 63 70 05 6c 6f 63 61 6c ...\n",
       "...                                                    ...\n",
       "8626066  [\n",
       "0000, 88 36 6c d7 1c 56 04 32 f4 45 17 b3 08...\n",
       "8626067  [0010, 00 34 02 f2 40 00 40 06 f0 dd c0 a8 00 ...\n",
       "8626068  [0020, 4b 53 a1 fb 01 bb 13 c3 8b dd 18 ab 59 ...\n",
       "8626069  [0030, 19 a5 a5 6e 00 00 01 01 08 0a 00 03 86 ...\n",
       "8626070  [0040, 3e fa,                                 ...\n",
       "\n",
       "[8626071 rows x 1 columns]"
      ]
     },
     "execution_count": 51,
     "metadata": {},
     "output_type": "execute_result"
    }
   ],
   "source": [
    "pd.DataFrame(packet)"
   ]
  },
  {
   "cell_type": "code",
   "execution_count": null,
   "id": "169dd181",
   "metadata": {},
   "outputs": [],
   "source": []
  },
  {
   "cell_type": "code",
   "execution_count": null,
   "id": "d9141caa",
   "metadata": {},
   "outputs": [],
   "source": []
  },
  {
   "cell_type": "code",
   "execution_count": 37,
   "id": "6d8cefce",
   "metadata": {},
   "outputs": [],
   "source": [
    "packet = pd.DataFrame(packet.to_string(header=None, index=False).split(\"\\f\"))"
   ]
  },
  {
   "cell_type": "code",
   "execution_count": 39,
   "id": "accd561c",
   "metadata": {},
   "outputs": [],
   "source": [
    "temp = packet"
   ]
  },
  {
   "cell_type": "code",
   "execution_count": null,
   "id": "1ee0072d",
   "metadata": {},
   "outputs": [],
   "source": []
  }
 ],
 "metadata": {
  "kernelspec": {
   "display_name": "python3.6.8",
   "language": "python",
   "name": "python3.6.8"
  },
  "language_info": {
   "codemirror_mode": {
    "name": "ipython",
    "version": 3
   },
   "file_extension": ".py",
   "mimetype": "text/x-python",
   "name": "python",
   "nbconvert_exporter": "python",
   "pygments_lexer": "ipython3",
   "version": "3.6.8"
  }
 },
 "nbformat": 4,
 "nbformat_minor": 5
}
